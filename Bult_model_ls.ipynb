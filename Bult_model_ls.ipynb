rename Bult_model_ls to model
